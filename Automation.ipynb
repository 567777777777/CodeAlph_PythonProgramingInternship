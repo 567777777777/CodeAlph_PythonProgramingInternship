{
 "cells": [
  {
   "cell_type": "code",
   "execution_count": 27,
   "metadata": {},
   "outputs": [
    {
     "name": "stdout",
     "output_type": "stream",
     "text": [
      "Files organized successfully!\n"
     ]
    }
   ],
   "source": [
    "import os\n",
    "import shutil\n",
    "\n",
    "def organize_files(source_dir, destination_dir):\n",
    "    # Dictionary to hold file extensions and their corresponding directories\n",
    "    file_extensions = {\n",
    "        \"jfif\": \"Images\",  # Add jfif extension to Images\n",
    "        \"csv\": \"CSVs\",     # Add csv extension to CSVs\n",
    "        \"pdf\": \"PDFs\",\n",
    "        # Add more extensions and corresponding directories as needed\n",
    "    }\n",
    "\n",
    "    # Iterate through files in the source directory\n",
    "    for filename in os.listdir(source_dir):\n",
    "        # Get the file extension\n",
    "        _, ext = os.path.splitext(filename)\n",
    "        ext = ext.lower()[1:]  # Remove the dot and convert to lowercase\n",
    "\n",
    "        # Check if the extension exists in the dictionary\n",
    "        if ext in file_extensions:\n",
    "            # Construct the destination directory path\n",
    "            dest_folder = os.path.join(destination_dir, file_extensions[ext])\n",
    "            # If the destination directory doesn't exist, create it\n",
    "            if not os.path.exists(dest_folder):\n",
    "                os.makedirs(dest_folder)\n",
    "            # Move the file to the destination directory\n",
    "            shutil.move(os.path.join(source_dir, filename), dest_folder)\n",
    "\n",
    "if __name__ == \"__main__\":\n",
    "    # Define source and destination directories\n",
    "    source_directory = r\"C:\\Users\\dhami\\OneDrive\\Desktop\\new\"\n",
    "    destination_directory = r\"C:\\Users\\dhami\\OneDrive\\Desktop\\organized_files\"\n",
    "    \n",
    "    # Call the function to organize files\n",
    "    organize_files(source_directory, destination_directory)\n",
    "    print(\"Files organized successfully!\")\n"
   ]
  }
 ],
 "metadata": {
  "kernelspec": {
   "display_name": "Python 3",
   "language": "python",
   "name": "python3"
  },
  "language_info": {
   "codemirror_mode": {
    "name": "ipython",
    "version": 3
   },
   "file_extension": ".py",
   "mimetype": "text/x-python",
   "name": "python",
   "nbconvert_exporter": "python",
   "pygments_lexer": "ipython3",
   "version": "3.12.2"
  }
 },
 "nbformat": 4,
 "nbformat_minor": 2
}
